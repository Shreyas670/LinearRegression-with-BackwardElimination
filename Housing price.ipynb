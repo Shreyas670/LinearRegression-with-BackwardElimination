{
 "cells": [
  {
   "cell_type": "code",
   "execution_count": 1,
   "metadata": {},
   "outputs": [],
   "source": [
    "#importing libraries\n",
    "import pandas as pd\n",
    "import numpy as np\n",
    "import matplotlib.pyplot as plt"
   ]
  },
  {
   "cell_type": "code",
   "execution_count": 2,
   "metadata": {},
   "outputs": [],
   "source": [
    "#importing dataset\n",
    "dataset=pd.read_csv('kc_house_data.csv')"
   ]
  },
  {
   "cell_type": "code",
   "execution_count": 3,
   "metadata": {},
   "outputs": [
    {
     "data": {
      "text/html": [
       "<div>\n",
       "<style scoped>\n",
       "    .dataframe tbody tr th:only-of-type {\n",
       "        vertical-align: middle;\n",
       "    }\n",
       "\n",
       "    .dataframe tbody tr th {\n",
       "        vertical-align: top;\n",
       "    }\n",
       "\n",
       "    .dataframe thead th {\n",
       "        text-align: right;\n",
       "    }\n",
       "</style>\n",
       "<table border=\"1\" class=\"dataframe\">\n",
       "  <thead>\n",
       "    <tr style=\"text-align: right;\">\n",
       "      <th></th>\n",
       "      <th>id</th>\n",
       "      <th>date</th>\n",
       "      <th>price</th>\n",
       "      <th>bedrooms</th>\n",
       "      <th>bathrooms</th>\n",
       "      <th>sqft_living</th>\n",
       "      <th>sqft_lot</th>\n",
       "      <th>floors</th>\n",
       "      <th>waterfront</th>\n",
       "      <th>view</th>\n",
       "      <th>...</th>\n",
       "      <th>grade</th>\n",
       "      <th>sqft_above</th>\n",
       "      <th>sqft_basement</th>\n",
       "      <th>yr_built</th>\n",
       "      <th>yr_renovated</th>\n",
       "      <th>zipcode</th>\n",
       "      <th>lat</th>\n",
       "      <th>long</th>\n",
       "      <th>sqft_living15</th>\n",
       "      <th>sqft_lot15</th>\n",
       "    </tr>\n",
       "  </thead>\n",
       "  <tbody>\n",
       "    <tr>\n",
       "      <td>0</td>\n",
       "      <td>7129300520</td>\n",
       "      <td>20141013T000000</td>\n",
       "      <td>221900.0</td>\n",
       "      <td>3</td>\n",
       "      <td>1.00</td>\n",
       "      <td>1180</td>\n",
       "      <td>5650</td>\n",
       "      <td>1.0</td>\n",
       "      <td>0</td>\n",
       "      <td>0</td>\n",
       "      <td>...</td>\n",
       "      <td>7</td>\n",
       "      <td>1180</td>\n",
       "      <td>0</td>\n",
       "      <td>1955</td>\n",
       "      <td>0</td>\n",
       "      <td>98178</td>\n",
       "      <td>47.5112</td>\n",
       "      <td>-122.257</td>\n",
       "      <td>1340</td>\n",
       "      <td>5650</td>\n",
       "    </tr>\n",
       "    <tr>\n",
       "      <td>1</td>\n",
       "      <td>6414100192</td>\n",
       "      <td>20141209T000000</td>\n",
       "      <td>538000.0</td>\n",
       "      <td>3</td>\n",
       "      <td>2.25</td>\n",
       "      <td>2570</td>\n",
       "      <td>7242</td>\n",
       "      <td>2.0</td>\n",
       "      <td>0</td>\n",
       "      <td>0</td>\n",
       "      <td>...</td>\n",
       "      <td>7</td>\n",
       "      <td>2170</td>\n",
       "      <td>400</td>\n",
       "      <td>1951</td>\n",
       "      <td>1991</td>\n",
       "      <td>98125</td>\n",
       "      <td>47.7210</td>\n",
       "      <td>-122.319</td>\n",
       "      <td>1690</td>\n",
       "      <td>7639</td>\n",
       "    </tr>\n",
       "    <tr>\n",
       "      <td>2</td>\n",
       "      <td>5631500400</td>\n",
       "      <td>20150225T000000</td>\n",
       "      <td>180000.0</td>\n",
       "      <td>2</td>\n",
       "      <td>1.00</td>\n",
       "      <td>770</td>\n",
       "      <td>10000</td>\n",
       "      <td>1.0</td>\n",
       "      <td>0</td>\n",
       "      <td>0</td>\n",
       "      <td>...</td>\n",
       "      <td>6</td>\n",
       "      <td>770</td>\n",
       "      <td>0</td>\n",
       "      <td>1933</td>\n",
       "      <td>0</td>\n",
       "      <td>98028</td>\n",
       "      <td>47.7379</td>\n",
       "      <td>-122.233</td>\n",
       "      <td>2720</td>\n",
       "      <td>8062</td>\n",
       "    </tr>\n",
       "    <tr>\n",
       "      <td>3</td>\n",
       "      <td>2487200875</td>\n",
       "      <td>20141209T000000</td>\n",
       "      <td>604000.0</td>\n",
       "      <td>4</td>\n",
       "      <td>3.00</td>\n",
       "      <td>1960</td>\n",
       "      <td>5000</td>\n",
       "      <td>1.0</td>\n",
       "      <td>0</td>\n",
       "      <td>0</td>\n",
       "      <td>...</td>\n",
       "      <td>7</td>\n",
       "      <td>1050</td>\n",
       "      <td>910</td>\n",
       "      <td>1965</td>\n",
       "      <td>0</td>\n",
       "      <td>98136</td>\n",
       "      <td>47.5208</td>\n",
       "      <td>-122.393</td>\n",
       "      <td>1360</td>\n",
       "      <td>5000</td>\n",
       "    </tr>\n",
       "    <tr>\n",
       "      <td>4</td>\n",
       "      <td>1954400510</td>\n",
       "      <td>20150218T000000</td>\n",
       "      <td>510000.0</td>\n",
       "      <td>3</td>\n",
       "      <td>2.00</td>\n",
       "      <td>1680</td>\n",
       "      <td>8080</td>\n",
       "      <td>1.0</td>\n",
       "      <td>0</td>\n",
       "      <td>0</td>\n",
       "      <td>...</td>\n",
       "      <td>8</td>\n",
       "      <td>1680</td>\n",
       "      <td>0</td>\n",
       "      <td>1987</td>\n",
       "      <td>0</td>\n",
       "      <td>98074</td>\n",
       "      <td>47.6168</td>\n",
       "      <td>-122.045</td>\n",
       "      <td>1800</td>\n",
       "      <td>7503</td>\n",
       "    </tr>\n",
       "  </tbody>\n",
       "</table>\n",
       "<p>5 rows × 21 columns</p>\n",
       "</div>"
      ],
      "text/plain": [
       "           id             date     price  bedrooms  bathrooms  sqft_living  \\\n",
       "0  7129300520  20141013T000000  221900.0         3       1.00         1180   \n",
       "1  6414100192  20141209T000000  538000.0         3       2.25         2570   \n",
       "2  5631500400  20150225T000000  180000.0         2       1.00          770   \n",
       "3  2487200875  20141209T000000  604000.0         4       3.00         1960   \n",
       "4  1954400510  20150218T000000  510000.0         3       2.00         1680   \n",
       "\n",
       "   sqft_lot  floors  waterfront  view  ...  grade  sqft_above  sqft_basement  \\\n",
       "0      5650     1.0           0     0  ...      7        1180              0   \n",
       "1      7242     2.0           0     0  ...      7        2170            400   \n",
       "2     10000     1.0           0     0  ...      6         770              0   \n",
       "3      5000     1.0           0     0  ...      7        1050            910   \n",
       "4      8080     1.0           0     0  ...      8        1680              0   \n",
       "\n",
       "   yr_built  yr_renovated  zipcode      lat     long  sqft_living15  \\\n",
       "0      1955             0    98178  47.5112 -122.257           1340   \n",
       "1      1951          1991    98125  47.7210 -122.319           1690   \n",
       "2      1933             0    98028  47.7379 -122.233           2720   \n",
       "3      1965             0    98136  47.5208 -122.393           1360   \n",
       "4      1987             0    98074  47.6168 -122.045           1800   \n",
       "\n",
       "   sqft_lot15  \n",
       "0        5650  \n",
       "1        7639  \n",
       "2        8062  \n",
       "3        5000  \n",
       "4        7503  \n",
       "\n",
       "[5 rows x 21 columns]"
      ]
     },
     "execution_count": 3,
     "metadata": {},
     "output_type": "execute_result"
    }
   ],
   "source": [
    "dataset.head()"
   ]
  },
  {
   "cell_type": "markdown",
   "metadata": {},
   "source": [
    "#FITTING LINEAR REGRESSION BEFORE BACKWARD ELIMINATION"
   ]
  },
  {
   "cell_type": "code",
   "execution_count": 4,
   "metadata": {},
   "outputs": [],
   "source": [
    "X=dataset.iloc[:,3:].values\n",
    "Y=dataset.iloc[:,2].values"
   ]
  },
  {
   "cell_type": "code",
   "execution_count": 5,
   "metadata": {},
   "outputs": [],
   "source": [
    "from sklearn.model_selection import train_test_split\n",
    "X_train,X_test,Y_train,Y_test=train_test_split(X,Y,test_size=0.3,random_state=0)"
   ]
  },
  {
   "cell_type": "code",
   "execution_count": 24,
   "metadata": {},
   "outputs": [],
   "source": [
    "import statsmodels.api as sm\n",
    "X_train=sm.add_constant(X_train)\n",
    "reg=sm.OLS(Y_train,X_train).fit()"
   ]
  },
  {
   "cell_type": "code",
   "execution_count": 9,
   "metadata": {},
   "outputs": [
    {
     "name": "stdout",
     "output_type": "stream",
     "text": [
      "                            OLS Regression Results                            \n",
      "==============================================================================\n",
      "Dep. Variable:                      y   R-squared:                       0.704\n",
      "Model:                            OLS   Adj. R-squared:                  0.704\n",
      "Method:                 Least Squares   F-statistic:                     2119.\n",
      "Date:                Thu, 09 Apr 2020   Prob (F-statistic):               0.00\n",
      "Time:                        19:10:21   Log-Likelihood:            -2.0604e+05\n",
      "No. Observations:               15129   AIC:                         4.121e+05\n",
      "Df Residuals:                   15111   BIC:                         4.123e+05\n",
      "Df Model:                          17                                         \n",
      "Covariance Type:            nonrobust                                         \n",
      "==============================================================================\n",
      "                 coef    std err          t      P>|t|      [0.025      0.975]\n",
      "------------------------------------------------------------------------------\n",
      "const       1.964e+06   3.46e+06      0.567      0.571   -4.82e+06    8.75e+06\n",
      "x1         -3.119e+04   2195.915    -14.205      0.000   -3.55e+04   -2.69e+04\n",
      "x2          3.704e+04   3810.923      9.718      0.000    2.96e+04    4.45e+04\n",
      "x3           106.4753      2.664     39.974      0.000     101.254     111.696\n",
      "x4             0.2388      0.057      4.167      0.000       0.126       0.351\n",
      "x5          1.203e+04   4221.768      2.849      0.004    3751.976    2.03e+04\n",
      "x6          5.915e+05      2e+04     29.576      0.000    5.52e+05    6.31e+05\n",
      "x7          5.349e+04   2552.055     20.960      0.000    4.85e+04    5.85e+04\n",
      "x8          2.658e+04   2781.858      9.554      0.000    2.11e+04     3.2e+04\n",
      "x9          9.572e+04   2546.065     37.595      0.000    9.07e+04    1.01e+05\n",
      "x10           64.8380      2.637     24.587      0.000      59.669      70.007\n",
      "x11           41.6414      3.121     13.343      0.000      35.524      47.759\n",
      "x12        -2581.9827     85.405    -30.232      0.000   -2749.386   -2414.579\n",
      "x13           16.0385      4.288      3.740      0.000       7.633      24.444\n",
      "x14         -525.1670     39.069    -13.442      0.000    -601.748    -448.586\n",
      "x15         6.064e+05   1.27e+04     47.835      0.000    5.82e+05    6.31e+05\n",
      "x16        -2.053e+05   1.55e+04    -13.219      0.000   -2.36e+05   -1.75e+05\n",
      "x17           28.8419      4.036      7.147      0.000      20.932      36.752\n",
      "x18           -0.4776      0.089     -5.363      0.000      -0.652      -0.303\n",
      "==============================================================================\n",
      "Omnibus:                    11821.226   Durbin-Watson:                   1.998\n",
      "Prob(Omnibus):                  0.000   Jarque-Bera (JB):           899965.442\n",
      "Skew:                           3.182   Prob(JB):                         0.00\n",
      "Kurtosis:                      40.245   Cond. No.                     3.94e+17\n",
      "==============================================================================\n",
      "\n",
      "Warnings:\n",
      "[1] Standard Errors assume that the covariance matrix of the errors is correctly specified.\n",
      "[2] The smallest eigenvalue is 9.9e-22. This might indicate that there are\n",
      "strong multicollinearity problems or that the design matrix is singular.\n"
     ]
    }
   ],
   "source": [
    "print(reg.summary())"
   ]
  },
  {
   "cell_type": "markdown",
   "metadata": {},
   "source": [
    "As we saw above that efficiency is 70 we will perform backward elimination to improve the efficiency"
   ]
  },
  {
   "cell_type": "markdown",
   "metadata": {},
   "source": [
    "# BACK WARD ELIMINATION"
   ]
  },
  {
   "cell_type": "code",
   "execution_count": 21,
   "metadata": {},
   "outputs": [],
   "source": [
    "def backward_elimination(x,Sig_Level):#x is the independent variables\n",
    "    numVars=len(x[0])#number of columns that is number of variables in x.if we just give len(X) we will get row length hence x[0] \n",
    "    temp=np.zeros((21613,19)).astype(int)#create a temporary np array of size same as x\n",
    "    for i in range(0,numVars): #we iterate number as column types.\n",
    "        regressor_OLS=sm.OLS(Y,x).fit() #we fit the model for all variables\n",
    "        maxP = max(regressor_OLS.pvalues).astype(float) #we get maximum p vales among all p values\n",
    "        adjR_before = regressor_OLS.rsquared_adj.astype(float) # we find out r2 value before so that if it decreases we will know removing the variable caused inneficiency\n",
    "        if(maxP>Sig_Level): #we the max p value is greater than our significance level\n",
    "            for j in range(0,numVars-i): # we would have removed i number of columns or placed it at end if r2 has decreased hence iterating till num-i is enough\n",
    "                if (regressor_OLS.pvalues[j].astype(float) == maxP): # to find which is that variable whose p value is max\n",
    "                    temp[:,j] = x[:, j] #copy that variable to  temp\n",
    "                    x = np.delete(x, j, 1) #delete that variable from x\n",
    "                    tmp_regressor = sm.OLS(Y, x).fit() #fit the model without that variable\n",
    "                    adjR_after = tmp_regressor.rsquared_adj.astype(float) #find r2 for the above model\n",
    "                    if (adjR_before >= adjR_after): #if this happens that means that model was accurate before removing the variable..hence add that back\n",
    "                        x_rollback = np.hstack((x, temp[:,[0,j]])) #hstack means add horizontal as it is a column..the variable is added to last\n",
    "                        x_rollback = np.delete(x_rollback, j, 1)  #delete the original\n",
    "                        print (regressor_OLS.summary())\n",
    "                        return x_rollback #if removing max p  valued variable only is not increasing r2..deleting other variables also wont..hence return from the function\n",
    "                    else:\n",
    "                        continue\n",
    "    regressor_OLS.summary()\n",
    "    return x\n",
    "            "
   ]
  },
  {
   "cell_type": "code",
   "execution_count": 22,
   "metadata": {
    "scrolled": true
   },
   "outputs": [
    {
     "name": "stdout",
     "output_type": "stream",
     "text": [
      "                                 OLS Regression Results                                \n",
      "=======================================================================================\n",
      "Dep. Variable:                      y   R-squared (uncentered):                   0.905\n",
      "Model:                            OLS   Adj. R-squared (uncentered):              0.905\n",
      "Method:                 Least Squares   F-statistic:                          1.211e+04\n",
      "Date:                Thu, 09 Apr 2020   Prob (F-statistic):                        0.00\n",
      "Time:                        22:26:00   Log-Likelihood:                     -2.9461e+05\n",
      "No. Observations:               21613   AIC:                                  5.892e+05\n",
      "Df Residuals:                   21596   BIC:                                  5.894e+05\n",
      "Df Model:                          17                                                  \n",
      "Covariance Type:            nonrobust                                                  \n",
      "==============================================================================\n",
      "                 coef    std err          t      P>|t|      [0.025      0.975]\n",
      "------------------------------------------------------------------------------\n",
      "x1         -3.551e+04   1888.716    -18.802      0.000   -3.92e+04   -3.18e+04\n",
      "x2          4.105e+04   3253.759     12.618      0.000    3.47e+04    4.74e+04\n",
      "x3           110.2642      2.268     48.607      0.000     105.818     114.711\n",
      "x4             0.1334      0.048      2.786      0.005       0.040       0.227\n",
      "x5          5261.5471   3541.347      1.486      0.137   -1679.755    1.22e+04\n",
      "x6          5.833e+05   1.74e+04     33.598      0.000    5.49e+05    6.17e+05\n",
      "x7          5.236e+04   2128.298     24.600      0.000    4.82e+04    5.65e+04\n",
      "x8          2.721e+04   2323.818     11.709      0.000    2.27e+04    3.18e+04\n",
      "x9          9.548e+04   2145.492     44.503      0.000    9.13e+04    9.97e+04\n",
      "x10           71.3928      2.238     31.902      0.000      67.006      75.779\n",
      "x11           38.8714      2.624     14.813      0.000      33.728      44.015\n",
      "x12        -2561.7953     68.006    -37.670      0.000   -2695.092   -2428.498\n",
      "x13           20.4187      3.646      5.600      0.000      13.272      27.566\n",
      "x14         -519.0756     17.826    -29.119      0.000    -554.016    -484.136\n",
      "x15         6.022e+05   1.07e+04     56.106      0.000    5.81e+05    6.23e+05\n",
      "x16        -2.179e+05   1.31e+04    -16.683      0.000   -2.44e+05   -1.92e+05\n",
      "x17           23.0994      3.392      6.811      0.000      16.452      29.747\n",
      "x18           -0.3761      0.073     -5.137      0.000      -0.520      -0.233\n",
      "==============================================================================\n",
      "Omnibus:                    18403.146   Durbin-Watson:                   1.991\n",
      "Prob(Omnibus):                  0.000   Jarque-Bera (JB):          1873534.498\n",
      "Skew:                           3.572   Prob(JB):                         0.00\n",
      "Kurtosis:                      48.049   Cond. No.                     2.96e+17\n",
      "==============================================================================\n",
      "\n",
      "Warnings:\n",
      "[1] Standard Errors assume that the covariance matrix of the errors is correctly specified.\n",
      "[2] The smallest eigenvalue is 2.5e-21. This might indicate that there are\n",
      "strong multicollinearity problems or that the design matrix is singular.\n"
     ]
    }
   ],
   "source": [
    "X_opt = X[:, [0, 1, 2, 3, 4, 5,6,7,8,9,10,11,12,13,14,15,16,17]]\n",
    "X_Modeled = backward_elimination(X_opt, 0.05)"
   ]
  },
  {
   "cell_type": "code",
   "execution_count": 31,
   "metadata": {},
   "outputs": [],
   "source": [
    "from sklearn.model_selection import train_test_split\n",
    "X_train,X_test,Y_train,Y_test=train_test_split(X_Modeled,Y,test_size=0.3,random_state=0)"
   ]
  },
  {
   "cell_type": "code",
   "execution_count": 32,
   "metadata": {},
   "outputs": [
    {
     "data": {
      "text/plain": [
       "LinearRegression(copy_X=True, fit_intercept=True, n_jobs=None, normalize=False)"
      ]
     },
     "execution_count": 32,
     "metadata": {},
     "output_type": "execute_result"
    }
   ],
   "source": [
    "from sklearn.linear_model import LinearRegression\n",
    "final_reg=LinearRegression()\n",
    "final_reg.fit(X_train,Y_train)"
   ]
  },
  {
   "cell_type": "code",
   "execution_count": 35,
   "metadata": {},
   "outputs": [],
   "source": [
    "Y_pred=final_reg.predict(X_test)"
   ]
  },
  {
   "cell_type": "code",
   "execution_count": 42,
   "metadata": {},
   "outputs": [
    {
     "data": {
      "image/png": "[encoded data removed]",
      "text/plain": [
       "<Figure size 432x288 with 1 Axes>"
      ]
     },
     "metadata": {
      "needs_background": "light"
     },
     "output_type": "display_data"
    }
   ],
   "source": [
    "plt.plot(Y_pred,Y_pred,color='red')\n",
    "plt.plot(Y_test,Y_test,color='blue')\n",
    "plt.show()"
   ]
  },
  {
   "cell_type": "markdown",
   "metadata": {},
   "source": [
    "AS WE CAN SEE ABOVE THE PREDICTED VALUES AND TEST VALUES ARE ALMOST SAME"
   ]
  }
 ],
 "metadata": {
  "kernelspec": {
   "display_name": "Python 3",
   "language": "python",
   "name": "python3"
  },
  "language_info": {
   "codemirror_mode": {
    "name": "ipython",
    "version": 3
   },
   "file_extension": ".py",
   "mimetype": "text/x-python",
   "name": "python",
   "nbconvert_exporter": "python",
   "pygments_lexer": "ipython3",
   "version": "3.7.4"
  }
 },
 "nbformat": 4,
 "nbformat_minor": 2
}
